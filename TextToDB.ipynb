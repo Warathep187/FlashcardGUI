{
 "metadata": {
  "language_info": {
   "codemirror_mode": {
    "name": "ipython",
    "version": 3
   },
   "file_extension": ".py",
   "mimetype": "text/x-python",
   "name": "python",
   "nbconvert_exporter": "python",
   "pygments_lexer": "ipython3",
   "version": "3.9.1-final"
  },
  "orig_nbformat": 2,
  "kernelspec": {
   "name": "python3",
   "display_name": "Python 3.9.1 64-bit",
   "metadata": {
    "interpreter": {
     "hash": "8da01e5a71448ea74f54d88afa8911010d1d12e23bc7e103d40d5def4a09152c"
    }
   }
  }
 },
 "nbformat": 4,
 "nbformat_minor": 2,
 "cells": [
  {
   "cell_type": "code",
   "execution_count": 1,
   "metadata": {},
   "outputs": [
    {
     "output_type": "stream",
     "name": "stdout",
     "text": [
      "Complete\n"
     ]
    }
   ],
   "source": [
    "import sqlite3 as sql\n",
    "openfile = open(file=\"add.txt\", mode=\"r\", encoding=\"UTF-8\")\n",
    "while True:\n",
    "    read = openfile.readline()\n",
    "    con = sql.connect(\"Dictionary.db\")\n",
    "    if read == \"\":\n",
    "        cur.close()\n",
    "        con.close()\n",
    "        openfile.close()\n",
    "        print(\"Complete\")\n",
    "        break\n",
    "    else:\n",
    "        if read == \"\\n\":\n",
    "            continue\n",
    "        else:\n",
    "            try:\n",
    "                first = read[0]\n",
    "                replace = read.replace(\" แปลว่า \", \">\")\n",
    "                new = replace[:-1]\n",
    "                split = new.split(\">\")\n",
    "                key = split[0]\n",
    "                value = split[1]\n",
    "                cur = con.cursor()\n",
    "                cur.execute(f\"INSERT INTO all_table VALUES('{key}', '{value}')\")\n",
    "                con.commit()\n",
    "                cur.close()\n",
    "            except:\n",
    "                print(\"Error\", \" \", read)"
   ]
  }
 ]
}